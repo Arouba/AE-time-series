{
 "cells": [
  {
   "cell_type": "code",
   "execution_count": null,
   "metadata": {},
   "outputs": [],
   "source": [
    "# Install/import dependencies\n",
    "# prophet, pandas\n",
    "\n",
    "import warnings\n",
    "warnings.simplefilter('ignore')\n",
    "\n",
    "import pandas as pd\n",
    "from prophet import Prophet\n"
   ]
  },
  {
   "cell_type": "code",
   "execution_count": null,
   "metadata": {},
   "outputs": [],
   "source": [
    "# Read data + process data \n",
    "from pandas import read_csv\n",
    "path = 'data.Prophet.csv'\n",
    "df = read_csv(path)\n",
    "# First few rows\n",
    "print(df.head())"
   ]
  },
  {
   "cell_type": "code",
   "execution_count": null,
   "metadata": {},
   "outputs": [],
   "source": [
    "# ds is date, y is values\n",
    "\n",
    "df.dtypes"
   ]
  },
  {
   "cell_type": "markdown",
   "metadata": {},
   "source": [
    "\n",
    "\n",
    " ds is date, y is values\n",
    "\n",
    "df.dtypes"
   ]
  },
  {
   "cell_type": "code",
   "execution_count": null,
   "metadata": {},
   "outputs": [],
   "source": [
    "# Pre-processing\n",
    "\n",
    "df['Year'] = df['Time Date'].apply(lambda x: str(x)[-8:-4])\n",
    "df['Month'] = df['Time Date'].apply(lambda x: str(x)[-4:-2])\n",
    "df['Day'] = df['Time Date'].apply(lambda x: str(x)[-2:])\n",
    "df['ds'] = pd.DatetimeIndex(df['Year'] +'-'+df['Month']+'-'+df['Day'])"
   ]
  },
  {
   "cell_type": "code",
   "execution_count": null,
   "metadata": {},
   "outputs": [],
   "source": [
    "# Check to see if it is datetime\n",
    "df.dtypes"
   ]
  },
  {
   "cell_type": "code",
   "execution_count": null,
   "metadata": {},
   "outputs": [],
   "source": [
    "df.head"
   ]
  },
  {
   "cell_type": "code",
   "execution_count": null,
   "metadata": {},
   "outputs": [],
   "source": [
    "# Drop columns that are not needed inc. unique values, axis=1 is to drop the coloumns \n",
    "# inplace=True is for the same dataset (not creating another dataset)\n",
    "# Can filter by specific type of emergency department by using a slicer (df[df['X']=='specifics'])\n",
    "\n",
    "df.drop(['Time Date', 'Year', 'Month', 'Day'], axis=1, inplace=True)\n",
    "df.columns = 'y', 'ds'"
   ]
  },
  {
   "cell_type": "code",
   "execution_count": null,
   "metadata": {},
   "outputs": [],
   "source": [
    "df.head"
   ]
  },
  {
   "cell_type": "code",
   "execution_count": null,
   "metadata": {},
   "outputs": [],
   "source": [
    "df = df.groupby('ds')['y'].sum()\n",
    "# Print the output.\n",
    "md = df.reset_index()\n",
    "print(md)"
   ]
  },
  {
   "cell_type": "code",
   "execution_count": null,
   "metadata": {},
   "outputs": [],
   "source": [
    "# Train Model\n",
    "\n",
    "m = Prophet(interval_width=0.95)\n",
    "\n",
    "model = m.fit(md)"
   ]
  },
  {
   "cell_type": "code",
   "execution_count": null,
   "metadata": {},
   "outputs": [],
   "source": [
    "#Forecast - trends, lower and upper estimates, daily seasonality, yhat is the predicted forecast\n",
    "#periods you want to forecast for - up to 100. Frequency is by Month\n",
    "# second line forecasts forward\n",
    "\n",
    "future = m.make_future_dataframe(periods=20,freq='M')\n",
    "forecast = m.predict(future)\n",
    "forecast.head()"
   ]
  },
  {
   "cell_type": "code",
   "execution_count": null,
   "metadata": {},
   "outputs": [],
   "source": [
    "#Plot data, prophet model is stored in variable m\n",
    "\n",
    "\n",
    "plot1 = m.plot(forecast)\n",
    "plt.title('Monthly Sales')\n",
    "plt.ylabel('Total Sales')\n",
    "plt.xlabel('Date')\n",
    "plt.ticklabel_format(style='plain', axis='y')\n",
    "plt.legend()\n",
    "plt.show()"
   ]
  },
  {
   "cell_type": "code",
   "execution_count": null,
   "metadata": {},
   "outputs": [],
   "source": [
    "#Decompose\n",
    "\n",
    "plot2 = m.plot_components(forecast)"
   ]
  },
  {
   "cell_type": "code",
   "execution_count": null,
   "metadata": {},
   "outputs": [],
   "source": [
    "#Ceate a metric dataframe that essentially joins the actual values from monthly_inc (y)\n",
    "#with the predicted values from the forecast table\n",
    "#using the common key 'ds'\n",
    "metric_df = forecast.set_index('ds')[['yhat']].join(md.set_index('ds').y).reset_index()\n",
    "metric_df"
   ]
  },
  {
   "cell_type": "code",
   "execution_count": null,
   "metadata": {},
   "outputs": [],
   "source": [
    "#let's drop those predicted values and focus on how well the model has fit with historical data\n",
    "metric_df.dropna(inplace=True)"
   ]
  },
  {
   "cell_type": "code",
   "execution_count": null,
   "metadata": {},
   "outputs": [],
   "source": [
    "#RMSE \n",
    "from sklearn.metrics import mean_squared_error\n",
    "from math import sqrt\n",
    "rmse_prophet = sqrt(mean_squared_error(metric_df.y, metric_df.yhat))\n",
    "print(rmse_prophet)"
   ]
  }
 ],
 "metadata": {
  "interpreter": {
   "hash": "cf9e77f18cd95be40de42be3235049766221ae72f5ea9f72541f2a3d8c6c9580"
  },
  "kernelspec": {
   "display_name": "Python 3.8.8 ('base')",
   "language": "python",
   "name": "python3"
  },
  "language_info": {
   "codemirror_mode": {
    "name": "ipython",
    "version": 3
   },
   "file_extension": ".py",
   "mimetype": "text/x-python",
   "name": "python",
   "nbconvert_exporter": "python",
   "pygments_lexer": "ipython3",
   "version": "3.8.8"
  },
  "orig_nbformat": 4
 },
 "nbformat": 4,
 "nbformat_minor": 2
}
